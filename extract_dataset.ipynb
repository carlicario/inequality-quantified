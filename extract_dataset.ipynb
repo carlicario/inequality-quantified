{
 "cells": [
  {
   "cell_type": "code",
   "execution_count": 1,
   "id": "91766a86",
   "metadata": {},
   "outputs": [],
   "source": [
    "import pandas as pd\n",
    "from sklearn.ensemble import RandomForestRegressor\n",
    "import xgboost as xgb\n",
    "from sklearn.metrics import r2_score\n",
    "from sklearn.model_selection import GridSearchCV\n",
    "from scipy.stats import randint\n",
    "from sklearn import preprocessing\n",
    "import category_encoders as ce\n",
    "from sklearn.model_selection import train_test_split\n",
    "\n",
    "complete_dataset_path = '/Users/carloscarvalho/Downloads/microdados_enem_2021 2/DADOS/MICRODADOS_ENEM_2021.csv'\n",
    "fraction_dataset_path = '/Users/carloscarvalho/Downloads/splitcsv-476aa139-fb59-4486-8b15-e84e386d7d24-results/MICRODADOS_ENEM_2021-1.csv'\n",
    "\n",
    "df = pd.read_csv(complete_dataset_path, encoding=\"ISO-8859-1\")\n"
   ]
  },
  {
   "cell_type": "code",
   "execution_count": 2,
   "id": "8ce62ca9",
   "metadata": {},
   "outputs": [],
   "source": [
    "# Target = Math Exam grade\n",
    "# Features = Info that is related to brazil's inequality\n",
    "# and not related to a student's effort"
   ]
  },
  {
   "cell_type": "code",
   "execution_count": 3,
   "id": "ed7b9035",
   "metadata": {},
   "outputs": [
    {
     "name": "stdout",
     "output_type": "stream",
     "text": [
      "TP_SEXO               2245844\n",
      "TP_COR_RACA           2245844\n",
      "TP_ESCOLA             2245844\n",
      "TP_LOCALIZACAO_ESC    2245844\n",
      "Q001                  2245844\n",
      "Q002                  2245844\n",
      "Q003                  2245844\n",
      "Q004                  2245844\n",
      "Q005                  2245844\n",
      "Q006                  2245844\n",
      "Q007                  2245844\n",
      "Q008                  2245844\n",
      "Q009                  2245844\n",
      "Q010                  2245844\n",
      "Q011                  2245844\n",
      "Q012                  2245844\n",
      "Q013                  2245844\n",
      "Q014                  2245844\n",
      "Q015                  2245844\n",
      "Q016                  2245844\n",
      "Q017                  2245844\n",
      "Q018                  2245844\n",
      "Q019                  2245844\n",
      "Q020                  2245844\n",
      "Q021                  2245844\n",
      "Q022                  2245844\n",
      "Q023                  2245844\n",
      "Q024                  2245844\n",
      "Q025                  2245844\n",
      "target                2245844\n",
      "dtype: int64\n"
     ]
    }
   ],
   "source": [
    "df[df.columns[0].split(';')] = df[df.columns[0]].str.split(';', expand=True)\n",
    "df = df.drop(df.columns[0], axis=1)\n",
    "\n",
    "df['target'] = df['NU_NOTA_MT']\n",
    "features = ['TP_SEXO', 'TP_COR_RACA', 'TP_ESCOLA', 'TP_LOCALIZACAO_ESC', 'Q001', 'Q002', 'Q003', 'Q004', 'Q005', 'Q006', 'Q007', 'Q008', 'Q009', 'Q010', 'Q011', 'Q012', 'Q013', 'Q014', 'Q015', 'Q016', 'Q017', 'Q018', 'Q019', 'Q020', 'Q021', 'Q022', 'Q023', 'Q024', 'Q025']\n",
    "\n",
    "df = df[features + ['target']]\n",
    "df = df.drop(df[df['target'] == ''].index)\n",
    "df['target'] = df['target'].astype(float)\n",
    "\n",
    "print(df.count())"
   ]
  },
  {
   "cell_type": "code",
   "execution_count": 4,
   "id": "9d3982f2",
   "metadata": {
    "scrolled": true
   },
   "outputs": [
    {
     "name": "stdout",
     "output_type": "stream",
     "text": [
      "Train R-squared:  0.27784027355847085\n",
      "Test R-squared:  0.2773029286390841\n",
      "Train R-squared:  0.2830822686199085\n",
      "Test R-squared:  0.28025084749287676\n",
      "Train R-squared:  0.28959853837252547\n",
      "Test R-squared:  0.28271508709991344\n",
      "Train R-squared:  0.3013629726165362\n",
      "Test R-squared:  0.2956894049761277\n"
     ]
    }
   ],
   "source": [
    "# split the dataset into predictor variables (X) and target variable (y)\n",
    "\n",
    "train_df, test_df = train_test_split(df, test_size=0.2, random_state=42)\n",
    "\n",
    "X_train = train_df.drop('target', axis=1)\n",
    "X_test = test_df.drop('target', axis=1)\n",
    "y_train = train_df['target']\n",
    "y_test = test_df['target']\n",
    "    \n",
    "target_encoder = ce.TargetEncoder(cols=X_train.columns)\n",
    "target_encoder.fit(X_train, y_train)\n",
    "\n",
    "X_train = target_encoder.transform(X_train)\n",
    "X_test = target_encoder.transform(X_test)\n",
    "\n",
    "model = RandomForestRegressor(max_depth=9).fit(X_train, y_train)\n",
    "\n",
    "# calculate the R-squared\n",
    "r_squared = r2_score(y_train, model.predict(X_train))\n",
    "print(\"Train R-squared: \", r_squared)\n",
    "\n",
    "r_squared = r2_score(y_test, model.predict(X_test))\n",
    "print(\"Test R-squared: \", r_squared)\n",
    "\n",
    "\n",
    "\n",
    "model = RandomForestRegressor(max_depth=10).fit(X_train, y_train)\n",
    "\n",
    "# calculate the R-squared\n",
    "r_squared = r2_score(y_train, model.predict(X_train))\n",
    "print(\"Train R-squared: \", r_squared)\n",
    "\n",
    "r_squared = r2_score(y_test, model.predict(X_test))\n",
    "print(\"Test R-squared: \", r_squared)\n",
    "\n",
    "model = RandomForestRegressor(max_depth=11).fit(X_train, y_train)\n",
    "\n",
    "# calculate the R-squared\n",
    "r_squared = r2_score(y_train, model.predict(X_train))\n",
    "print(\"Train R-squared: \", r_squared)\n",
    "\n",
    "r_squared = r2_score(y_test, model.predict(X_test))\n",
    "print(\"Test R-squared: \", r_squared)\n",
    "\n",
    "\n",
    "\n",
    "\n",
    "model = xgb.XGBRegressor().fit(X_train, y_train)\n",
    "\n",
    "# calculate the R-squared\n",
    "r_squared = r2_score(y_train, model.predict(X_train))\n",
    "print(\"Train R-squared: \", r_squared)\n",
    "\n",
    "r_squared = r2_score(y_test, model.predict(X_test))\n",
    "print(\"Test R-squared: \", r_squared)"
   ]
  },
  {
   "cell_type": "code",
   "execution_count": null,
   "id": "3947143b",
   "metadata": {},
   "outputs": [],
   "source": [
    "params_grid = {\n",
    "    'learning_rate': [0.05, 0.1, 0.15],\n",
    "    'max_depth': [3, 4, 5],\n",
    "    'min_child_weight': [1, 3, 5],\n",
    "    'gamma': [0, 0.1, 0.2],\n",
    "    'subsample': [0.6, 0.7, 0.8, 0.9],\n",
    "    'colsample_bytree': [0.6, 0.7, 0.8, 0.9],\n",
    "    'reg_alpha': [0, 0.1, 0.5, 1],\n",
    "    'reg_lambda': [0.01, 0.1, 1, 10]\n",
    "}\n",
    "\n",
    "xgb_model = xgb.XGBRegressor()\n",
    "\n",
    "# Initialize GridSearchCV for hyperparameter tuning\n",
    "grid_search = GridSearchCV(estimator=xgb_model, param_grid=params_grid, cv=5, n_jobs=-1, scoring='neg_mean_squared_error')\n",
    "\n",
    "# Fit GridSearchCV on the train set\n",
    "grid_search.fit(X_train, y_train)\n",
    "\n",
    "# Print the best parameters and score found during GridSearchCV\n",
    "print(\"Best parameters:\", grid_search.best_params_)\n",
    "print(\"Best score:\", -grid_search.best_score_)\n",
    "\n",
    "# Train the XGBoost model with the best parameters found\n",
    "best_xgb_model = xgb.XGBRegressor(**grid_search.best_params_)\n",
    "best_xgb_model.fit(X_train, y_train)\n",
    "\n",
    "r_squared = r2_score(y_train, best_xgb_model.predict(X_train))\n",
    "print(\"Train R-squared: \", r_squared)\n",
    "\n",
    "r_squared = r2_score(y_test, best_xgb_model.predict(X_test))\n",
    "print(\"Test R-squared: \", r_squared)\n"
   ]
  },
  {
   "cell_type": "code",
   "execution_count": null,
   "id": "ad13fe83",
   "metadata": {},
   "outputs": [],
   "source": [
    "train_df[X_train.columns] = target_encoder.transform(train_df[X_train.columns])\n",
    "\n",
    "print(train_df.corr())"
   ]
  },
  {
   "cell_type": "code",
   "execution_count": null,
   "id": "37f28651",
   "metadata": {},
   "outputs": [],
   "source": []
  }
 ],
 "metadata": {
  "kernelspec": {
   "display_name": "Python 3 (ipykernel)",
   "language": "python",
   "name": "python3"
  },
  "language_info": {
   "codemirror_mode": {
    "name": "ipython",
    "version": 3
   },
   "file_extension": ".py",
   "mimetype": "text/x-python",
   "name": "python",
   "nbconvert_exporter": "python",
   "pygments_lexer": "ipython3",
   "version": "3.11.2"
  }
 },
 "nbformat": 4,
 "nbformat_minor": 5
}
